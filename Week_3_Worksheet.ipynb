{
  "nbformat": 4,
  "nbformat_minor": 0,
  "metadata": {
    "colab": {
      "name": "Week 3 Worksheet.ipynb",
      "provenance": [],
      "authorship_tag": "ABX9TyMiJaFk434DWIEIrpy7T2XY",
      "include_colab_link": true
    },
    "kernelspec": {
      "name": "python3",
      "display_name": "Python 3"
    }
  },
  "cells": [
    {
      "cell_type": "markdown",
      "metadata": {
        "id": "view-in-github",
        "colab_type": "text"
      },
      "source": [
        "<a href=\"https://colab.research.google.com/github/mlepinski/OODFinal/blob/master/Week_3_Worksheet.ipynb\" target=\"_parent\"><img src=\"https://colab.research.google.com/assets/colab-badge.svg\" alt=\"Open In Colab\"/></a>"
      ]
    },
    {
      "cell_type": "markdown",
      "metadata": {
        "id": "Ave3-NqYDIWB",
        "colab_type": "text"
      },
      "source": [
        "# WEEK TWO WORKSHEET : Flow Control (If statements and Loops)"
      ]
    },
    {
      "cell_type": "markdown",
      "metadata": {
        "id": "F8ppNe7UDOmX",
        "colab_type": "text"
      },
      "source": [
        "**THE BASICS OF IF STATEMENTS**\n",
        "\n",
        "Recall from last week, that we can use an if statement to ask a question about a variable. \n",
        "\n",
        "The instruction inside the if statement is only executed if the answer to the question is True. \n",
        "\n",
        "(In Python, if statement questions are always True/False questions.)\n"
      ]
    },
    {
      "cell_type": "code",
      "metadata": {
        "id": "20VfNok7BjgC",
        "colab_type": "code",
        "colab": {}
      },
      "source": [
        "age = 62\n",
        "if age > 40:\n",
        "  print(\"You are old\")\n",
        "if age < 15:\n",
        "  print(\"You are young\")"
      ],
      "execution_count": null,
      "outputs": []
    },
    {
      "cell_type": "markdown",
      "metadata": {
        "id": "Ehdt0ck-Ej2h",
        "colab_type": "text"
      },
      "source": [
        "Often times we want to put multiple statements inside an \"if\"\n",
        "\n",
        "Python using indentation to tell which block of statements are inside an \"if\"\n",
        "\n",
        "All of the statements that are indented after an \"if\" are executed if the answer is Ture and they are all skipped if the answer is False\n",
        "\n",
        "You can press the \"TAB\" key to indendent a line of code"
      ]
    },
    {
      "cell_type": "code",
      "metadata": {
        "id": "DhI-6mIGFGpe",
        "colab_type": "code",
        "colab": {}
      },
      "source": [
        "age = 18\n",
        "if age > 40:\n",
        "  print(\"You are old\")\n",
        "  print(\"Your age is\", age)\n"
      ],
      "execution_count": null,
      "outputs": []
    },
    {
      "cell_type": "markdown",
      "metadata": {
        "id": "5DKMH-LQFc4G",
        "colab_type": "text"
      },
      "source": [
        "In the example above, nothing is printed because the answer to the question is False, and both of the print statements are indendented to tell Python that they are BOTH inside the \"if\"\n",
        "\n",
        "**Note:** Using the comma inside a print statement is a shortcut for printing two different things on one line"
      ]
    },
    {
      "cell_type": "code",
      "metadata": {
        "id": "ZSYVSmZ7Fy0-",
        "colab_type": "code",
        "colab": {
          "base_uri": "https://localhost:8080/",
          "height": 34
        },
        "outputId": "c466b201-7940-4e7f-d589-4469af82dfa2"
      },
      "source": [
        "age = 18\n",
        "if age > 40:\n",
        "  print(\"You are old\")\n",
        "print(\"Your age is\", age)"
      ],
      "execution_count": 4,
      "outputs": [
        {
          "output_type": "stream",
          "text": [
            "Your age is 18\n"
          ],
          "name": "stdout"
        }
      ]
    },
    {
      "cell_type": "markdown",
      "metadata": {
        "id": "rvE-vysRGAHW",
        "colab_type": "text"
      },
      "source": [
        "For this second example, I didn't change anything except the indendentation\n",
        "\n",
        "In this case, only the first print statement is inside the \"if\". Therefore, the second print statement is executed regardless of whether the answer is True or False. "
      ]
    },
    {
      "cell_type": "markdown",
      "metadata": {
        "id": "RLBJ5nyQG4M4",
        "colab_type": "text"
      },
      "source": [
        "\n",
        "\n",
        "---\n",
        "\n",
        "\n",
        "\n",
        "---\n",
        "\n",
        "\n",
        "**MORE COMPLICATED IF STATEMENTS**\n",
        "\n",
        "Sometimes we want to do one thing if the answer is TRUE and a different thing if the answer is False.\n",
        "\n",
        "**Recall from last time:** We use the \"int\" command to tell Python that an input from the user is an integer and not just a text string)"
      ]
    },
    {
      "cell_type": "code",
      "metadata": {
        "id": "ktN_BPbMF_2m",
        "colab_type": "code",
        "colab": {
          "base_uri": "https://localhost:8080/",
          "height": 50
        },
        "outputId": "bbbef76f-8934-42b1-c9e9-42b625b1ce44"
      },
      "source": [
        "number = int( input(\"Enter a number: \") )\n",
        "if number < 6:\n",
        "  print(\"I can count to\", number, \"on one hand\")\n",
        "if not number < 6:\n",
        "  print(\"I need more than one hand to count to\", number)"
      ],
      "execution_count": 6,
      "outputs": [
        {
          "output_type": "stream",
          "text": [
            "Enter a number: 7\n",
            "I need more than one hand to count to 7\n"
          ],
          "name": "stdout"
        }
      ]
    },
    {
      "cell_type": "markdown",
      "metadata": {
        "id": "EMYV0BHxI61e",
        "colab_type": "text"
      },
      "source": [
        "It is common to use this pattern of: \"if blah\" and then \"if not blah\"\n",
        "\n",
        "Therefore, Python has a shortcut for this pattern. \n",
        "\n",
        "The \"else\" causes Python to do something if the answer to the original question is False. \n",
        "\n",
        "The next example does exactly the same thing as the previous one:"
      ]
    },
    {
      "cell_type": "code",
      "metadata": {
        "id": "woRVZBI3I17v",
        "colab_type": "code",
        "colab": {}
      },
      "source": [
        "number = int( input(\"Enter a number: \") )\n",
        "if number < 6:\n",
        "  print(\"I can count to\", number, \"on one hand\")\n",
        "else:\n",
        "  print(\"I need more than one hand to count to\", number)"
      ],
      "execution_count": null,
      "outputs": []
    },
    {
      "cell_type": "markdown",
      "metadata": {
        "id": "gkCINpTaJagF",
        "colab_type": "text"
      },
      "source": [
        "Sometimes you want to ask several questions in a row.\n",
        "\n",
        "The word \"elif\" is short for \"else if\" and it asks a second question if only if the answer to the first question was False\n"
      ]
    },
    {
      "cell_type": "code",
      "metadata": {
        "id": "N618lGG9JgyP",
        "colab_type": "code",
        "colab": {}
      },
      "source": [
        "number = int( input(\"Enter a number: \") )\n",
        "if number < 6:\n",
        "  print(\"I can count to\", number, \"on one hand\")\n",
        "elif number < 11:\n",
        "  print(\"I can count to\", number, \"using both hands\")\n",
        "else:\n",
        "  print(\"I am sorry, but I don't have enough hands!\")"
      ],
      "execution_count": null,
      "outputs": []
    },
    {
      "cell_type": "markdown",
      "metadata": {
        "id": "U_diQVy5J_Aw",
        "colab_type": "text"
      },
      "source": [
        "In the above example, only one of the three print statements will actually be executed. \n",
        "\n",
        "The first print statement will run if the number is 5 or less. The second print statement will run if the number is between 6 and 10. The final print statement will run in only other cases. (That is, the last statement runs when the number is 11 or more)\n",
        "\n",
        "Here is some instructions that do exactly the same thing, but many people find using the elif and the else to be simpler."
      ]
    },
    {
      "cell_type": "code",
      "metadata": {
        "id": "gd6sS4grKp64",
        "colab_type": "code",
        "colab": {}
      },
      "source": [
        "number = int( input(\"Enter a number: \") )\n",
        "if number < 6:\n",
        "  print(\"I can count to\", number, \"on one hand\")\n",
        "if (not number < 6) and (number < 11):\n",
        "  print(\"I can count to\", number, \"using both hands\")\n",
        "if (not number < 6) and (not number < 11):\n",
        "  print(\"I am sorry, but I don't have enough hands!\")"
      ],
      "execution_count": null,
      "outputs": []
    },
    {
      "cell_type": "markdown",
      "metadata": {
        "id": "tSd93kY-K5dj",
        "colab_type": "text"
      },
      "source": [
        "Notice that the example above uses \"and\" to ask a more complicated question\n",
        "\n",
        "An \"and\" is True if both sides of the \"and\" are true\n",
        "\n",
        "Here is an example:"
      ]
    },
    {
      "cell_type": "code",
      "metadata": {
        "id": "lmOEDLzrLTsN",
        "colab_type": "code",
        "colab": {}
      },
      "source": [
        "color = input(\"Guess a color: \")\n",
        "number = int( input(\"Guess a number: \") )\n",
        "if color == \"pink\" and number == 7:\n",
        "  print(\"Wow, you guessed both the color and the number correctly!\")"
      ],
      "execution_count": null,
      "outputs": []
    },
    {
      "cell_type": "markdown",
      "metadata": {
        "id": "hiiJCuYALjoF",
        "colab_type": "text"
      },
      "source": [
        "In this example, the print statement only happens if BOTH the color is \"pink\" and the number is 7\n",
        "\n",
        "An \"or\" is True if at least one side is True"
      ]
    },
    {
      "cell_type": "code",
      "metadata": {
        "id": "sRhDi-aYLwSl",
        "colab_type": "code",
        "colab": {}
      },
      "source": [
        "color == input(\"Guess a color: \")\n",
        "number == input(\"Guess a number: \")\n",
        "if color == \"pink\" or number == 7:\n",
        "  print(\"Wow, you guessed at least one correctly!\")"
      ],
      "execution_count": null,
      "outputs": []
    },
    {
      "cell_type": "markdown",
      "metadata": {
        "id": "GkBMhbUuMUl3",
        "colab_type": "text"
      },
      "source": [
        "Often we will want to change the value of a variable inside an if statement"
      ]
    },
    {
      "cell_type": "code",
      "metadata": {
        "id": "VWKUDpC5MgGM",
        "colab_type": "code",
        "colab": {}
      },
      "source": [
        "color = input(\"Guess a color: \")\n",
        "number = int( input(\"Guess a number: \") )\n",
        "correct_guess = 0 \n",
        "if color == \"pink\":\n",
        "  correct_guess = correct_guess + 1\n",
        "if number == 7:\n",
        "  correct_guess = correct_guess + 1\n",
        "\n",
        "print(\"You guessed\", correct_guess, \"correctly!\")"
      ],
      "execution_count": null,
      "outputs": []
    },
    {
      "cell_type": "markdown",
      "metadata": {
        "id": "w8BbiXqhNBB3",
        "colab_type": "text"
      },
      "source": [
        "The line \"correct_guess = correct_guess + 1\" tells Python to do the following\n",
        "\n",
        "First, look inside of the variable correct_guess. \n",
        "\n",
        "Second, take whatever is inside correct_guess and add 1 to it\n",
        "\n",
        "Third, take the result (whatever you get after adding one) and place it into the variable correct_guess\n",
        "\n",
        "**Note:** This line changes the value stored in the variable correct_guess, so that it has a different value at the end than it did at the beginning. \n",
        "\n",
        "Also, it is really important that we told Python that correct_guess starts with a 0. Python will give an error message if you try to refer to the variable correct_guess without giving it a starting value"
      ]
    },
    {
      "cell_type": "code",
      "metadata": {
        "id": "CIKgK-ssOOeo",
        "colab_type": "code",
        "colab": {}
      },
      "source": [
        "color = input(\"Guess a color: \")\n",
        "number = int( input(\"Guess a number: \") )\n",
        "\n",
        "if color == \"pink\":\n",
        "  correct_guess = correct_guess + 1\n",
        "if number == 7:\n",
        "  correct_guess = correct_guess + 1\n",
        "\n",
        "print(\"You guessed\", correct_guess, \"correctly!\")"
      ],
      "execution_count": null,
      "outputs": []
    },
    {
      "cell_type": "markdown",
      "metadata": {
        "id": "QtLfMdLCRJOD",
        "colab_type": "text"
      },
      "source": [
        "\n",
        "\n",
        "---\n",
        "\n",
        "\n",
        "\n",
        "---\n",
        "\n",
        "\n",
        "**DOING THINGS REPEATEDLY**\n",
        "\n",
        "An if statement asks a question once and does something if the answer is True\n",
        "\n",
        "This is great for doing something once, but sometime we want to do something repeatedly. \n",
        "\n",
        "To do things repeatedly, we can use a \"while\" loop"
      ]
    },
    {
      "cell_type": "code",
      "metadata": {
        "id": "TfH6gRteRI6N",
        "colab_type": "code",
        "colab": {}
      },
      "source": [
        "counter = 1\n",
        "while counter < 10:\n",
        "  counter = counter + 1\n",
        "print(counter)"
      ],
      "execution_count": null,
      "outputs": []
    },
    {
      "cell_type": "markdown",
      "metadata": {
        "id": "xCZ-9Y468Cvu",
        "colab_type": "text"
      },
      "source": [
        "A \"while\" loop keeps doing something (whatever is inside the loop) until the answer to the question is False\n",
        "\n",
        "Above we have a simple loop repeatedly adds 1 to a variable (which I called \"counter\") until it is no longer the case that counter < 10\n",
        "\n",
        "Then it prints the value of the counter after the loop is done. \n",
        "\n",
        "To better see what is going on, here let's add another print statement"
      ]
    },
    {
      "cell_type": "code",
      "metadata": {
        "id": "gp3ohAAQ8pF-",
        "colab_type": "code",
        "colab": {}
      },
      "source": [
        "counter = 1\n",
        "while counter < 10:\n",
        "  print(\"I am inside the loop and the value of the counter is\", counter)\n",
        "  counter = counter + 1\n",
        "print(counter)"
      ],
      "execution_count": null,
      "outputs": []
    },
    {
      "cell_type": "markdown",
      "metadata": {
        "id": "Kgyz9Pj38-c9",
        "colab_type": "text"
      },
      "source": [
        "Note that just like for an \"if\", we can put a block of multiple statements inside a \"while\" loop. The things that are indented are inside the loop, and the print statement that is not indendent will be executed AFTER the loop is complete.\n",
        "\n",
        "---\n",
        "\n",
        "\n",
        "\n",
        "While loops are often useful when you are asking the user to enter some input, because users often type the wrong thing.\n",
        "\n",
        "Here is an example where we want the user to enter a number between 1 and 10. We will write a \"while\" loop that keeps asking the user for input as long as the number they enter is NOT between 1 and 10. \n",
        "\n",
        "(A number is between 1 and 10 if it is both \"greater than 0\" and \"less than 11\")"
      ]
    },
    {
      "cell_type": "code",
      "metadata": {
        "id": "DEf0Awed9fbt",
        "colab_type": "code",
        "colab": {}
      },
      "source": [
        "while not (number > 0 and number < 11):\n",
        "  number = input(\"Enter a number between 1 and 10: \")\n"
      ],
      "execution_count": null,
      "outputs": []
    },
    {
      "cell_type": "markdown",
      "metadata": {
        "id": "OWgZHt6P-Zaj",
        "colab_type": "text"
      },
      "source": [
        "Okay, that didn't work. Python complained because at the top of the \"while\" loop, we asked a question about the variable number, but we hadn't yet assigned a value to number.\n",
        "\n",
        "It is a very common mistake in Python to refer to a variable before you have put a value in the variable\n",
        "\n",
        "To correct this, we need to first give a value to the variable outside the loop."
      ]
    },
    {
      "cell_type": "code",
      "metadata": {
        "id": "-8vznW9v-Irm",
        "colab_type": "code",
        "colab": {}
      },
      "source": [
        "number = input(\"Enter a number between 1 and 10: \")\n",
        "while not (number > 0 and number < 11):\n",
        "  print(\"No you fool!\", number, \"isn't between 1 and 10\")\n",
        "  number = input(\"Enter a number between 1 and 10: \")"
      ],
      "execution_count": null,
      "outputs": []
    },
    {
      "cell_type": "markdown",
      "metadata": {
        "id": "RGfrPYR_ALzV",
        "colab_type": "text"
      },
      "source": [
        "Sometimes we might want to count how many times we go through a \"while\" loop. \n",
        "\n",
        "It is easy to do this by adding a counter variable and adding one to the counter variable each time you go through the loop."
      ]
    },
    {
      "cell_type": "code",
      "metadata": {
        "id": "0KjB-EusAX6z",
        "colab_type": "code",
        "colab": {}
      },
      "source": [
        "counter = 0\n",
        "\n",
        "number = input(\"Enter a number between 1 and 10: \")\n",
        "while not (number > 0 and number < 11):\n",
        "  print(\"No you fool!\", number, \"isn't between 1 and 10\")\n",
        "  number = input(\"Enter a number between 1 and 10: \")\n",
        "\n",
        "  counter = counter + 1\n",
        "print(\"You entered\", counter, \"wrong numbers before you entered a number between 1 and 10\")"
      ],
      "execution_count": null,
      "outputs": []
    },
    {
      "cell_type": "markdown",
      "metadata": {
        "id": "2GwrpZyg_P-D",
        "colab_type": "text"
      },
      "source": [
        "\n",
        "\n",
        "---\n",
        "\n",
        "\n",
        "\n",
        "---\n",
        "\n",
        "\n",
        "**ANOTHER TYPE OF LOOP**\n",
        "\n",
        "While loops are great for doing things until some stop condition is reached. (Like in our last example, until the user enters a number between 1 and 10.)\n",
        "\n",
        "However, sometimes you just want Python to do something a certain number of times"
      ]
    },
    {
      "cell_type": "code",
      "metadata": {
        "id": "rbOsSrFGBU1q",
        "colab_type": "code",
        "colab": {}
      },
      "source": [
        "for some_variable_name in range(5):\n",
        "  print(\"Happy Birthday to You!)"
      ],
      "execution_count": null,
      "outputs": []
    },
    {
      "cell_type": "markdown",
      "metadata": {
        "id": "GpyGZZYwBSD0",
        "colab_type": "text"
      },
      "source": [
        "This code tells Python to print \"Happy Birthday to You!\" five times\n",
        "\n",
        "In the example above \"some_variable_name\" can be any name that you want\n",
        "\n",
        "Each time through the loop, Python puts a different number into the loop variable. (We call the variable in a for loop either a \"loop variable\" or a \"loop control variable\")\n",
        "\n",
        "Let's see what Python is doing with our variable"
      ]
    },
    {
      "cell_type": "code",
      "metadata": {
        "id": "clbTHPoDB5u7",
        "colab_type": "code",
        "colab": {}
      },
      "source": [
        "for matt_variable in range(5):\n",
        "  print(\"Matt's Variable is now\", matt_variable)"
      ],
      "execution_count": null,
      "outputs": []
    },
    {
      "cell_type": "markdown",
      "metadata": {
        "id": "mYSeHAXOCCiJ",
        "colab_type": "text"
      },
      "source": [
        "You can see that Python is giving matt_variable the value of 0 the first time through the loop\n",
        "\n",
        "... and 1 the next time through the loop\n",
        "\n",
        "... and 2 the next time through the loop\n",
        "\n",
        "... and then 3 the next time through the loop\n",
        "\n",
        "... and the value of 4 the last time through the loop\n",
        "\n",
        "In Python, \"range(5)\" is short had for \"all of the numbers starting at 0 and less than 5\"\n",
        "\n",
        "Here is another program that does exactly the same thing:"
      ]
    },
    {
      "cell_type": "code",
      "metadata": {
        "id": "CQoFkbm2CgFK",
        "colab_type": "code",
        "colab": {}
      },
      "source": [
        "for matt_variable in [0,1,2,3,4]:\n",
        "  print(\"Matt's Variable is now\", matt_variable)"
      ],
      "execution_count": null,
      "outputs": []
    },
    {
      "cell_type": "markdown",
      "metadata": {
        "id": "yM7iHKoXCkFn",
        "colab_type": "text"
      },
      "source": [
        "You can use square brackets [ and ] to list out exactly the values that you want Python to put into loop variable\n",
        "\n",
        "However, it is sometimes easier to write \"range(10)\" instead of \"[0,1,2,3,4,5,6,7,8,0]\"\n",
        "\n",
        "Here is an example where the numbers aren't in order:"
      ]
    },
    {
      "cell_type": "code",
      "metadata": {
        "id": "xjTEfR0LCnSV",
        "colab_type": "code",
        "colab": {}
      },
      "source": [
        "for matt_variable in [2, 5, 8, 1, 4]:\n",
        "  print(\"Matt's Variable is now\", matt_variable)"
      ],
      "execution_count": null,
      "outputs": []
    },
    {
      "cell_type": "markdown",
      "metadata": {
        "id": "g1c8I9ZwDI-d",
        "colab_type": "text"
      },
      "source": [
        "This is one way to get Python to add a bunch of numbers\n",
        "\n",
        "The following program adds all of the number between 0 and 5\n",
        "\n",
        "(Recall that 0 + 1 + 2 + 3 + 4 + 5 is 15)"
      ]
    },
    {
      "cell_type": "code",
      "metadata": {
        "id": "dLY-7NmtDea4",
        "colab_type": "code",
        "colab": {}
      },
      "source": [
        "answer = 0\n",
        "for number in range(6):\n",
        "  answer = number + answer\n",
        "print(\"The answer is: \", answer)"
      ],
      "execution_count": null,
      "outputs": []
    },
    {
      "cell_type": "markdown",
      "metadata": {
        "id": "7GixXra_DprR",
        "colab_type": "text"
      },
      "source": [
        "Note that it was really important here that I gave a value to answer before we entered the loop. Python will give you an error if you don't tell Python that answer starts with 0.\n",
        "\n",
        "Sometimes it can be difficult to tell what is going on inside the loop, so I often like to put in a print statement to see what values are in my variables"
      ]
    },
    {
      "cell_type": "code",
      "metadata": {
        "id": "tGhhjI1bEveM",
        "colab_type": "code",
        "colab": {}
      },
      "source": [
        "answer = 0\n",
        "for number in range(6):\n",
        "  print(\"I am about to add\", number, \"to my answer which is\", answer)\n",
        "  answer = number + answer\n",
        "print(\"The answer is: \", answer)"
      ],
      "execution_count": null,
      "outputs": []
    },
    {
      "cell_type": "markdown",
      "metadata": {
        "id": "P_oHtB4lEwZ5",
        "colab_type": "text"
      },
      "source": [
        "Of course, this wasn't expecially interesting, because we could have added these numbers by hand.\n",
        "\n",
        "... But Python can just as easily add all of the numbers between 0 and 100."
      ]
    },
    {
      "cell_type": "code",
      "metadata": {
        "id": "QA06fPbVDxi6",
        "colab_type": "code",
        "colab": {}
      },
      "source": [
        "answer = 0\n",
        "for number in range(101):\n",
        "  answer = answer + number\n",
        "print(\"The answer is: \", answer)"
      ],
      "execution_count": null,
      "outputs": []
    },
    {
      "cell_type": "markdown",
      "metadata": {
        "id": "A6eZjV1mD0qZ",
        "colab_type": "text"
      },
      "source": [
        "It is often a good idea to test your program using small numbers (or a small amount of input data) so that you can check it by hand and make sure it works. After that you can go on to ask Python to do something with big numbers (or a large amount of data) where you don't know the answer. "
      ]
    },
    {
      "cell_type": "markdown",
      "metadata": {
        "id": "GrX96DJfFGb2",
        "colab_type": "text"
      },
      "source": [
        "\n",
        "\n",
        "---\n",
        "\n",
        "\n",
        "\n",
        "---\n",
        "\n",
        "\n",
        "**LOOKING FORWARD**\n",
        "\n",
        "I realize there was a lot of math and number stuff in this worksheet. I will be sure to include more examples next week that don't have so many numbers in them!\n",
        "\n",
        "Loops definitely take quite a bit of practice to get used to, so we are going to be continuing to do loop examples for quite a few weeks to come (although we will mix them in with some additional new concepts). "
      ]
    }
  ]
}