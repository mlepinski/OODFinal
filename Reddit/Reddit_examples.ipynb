{
  "nbformat": 4,
  "nbformat_minor": 0,
  "metadata": {
    "colab": {
      "name": "Reddit examples.ipynb",
      "provenance": [],
      "authorship_tag": "ABX9TyMIIQkkFbJlwYnl9XQsuQn2",
      "include_colab_link": true
    },
    "kernelspec": {
      "name": "python3",
      "display_name": "Python 3"
    }
  },
  "cells": [
    {
      "cell_type": "markdown",
      "metadata": {
        "id": "view-in-github",
        "colab_type": "text"
      },
      "source": [
        "<a href=\"https://colab.research.google.com/github/mlepinski/OODFinal/blob/master/Reddit/Reddit_examples.ipynb\" target=\"_parent\"><img src=\"https://colab.research.google.com/assets/colab-badge.svg\" alt=\"Open In Colab\"/></a>"
      ]
    },
    {
      "cell_type": "markdown",
      "metadata": {
        "id": "u3S6HMkslrx5"
      },
      "source": [
        "To work with Reddit data, you first need a Reddit account and you also need to register a developer script (Python application) with Reddit. I have already done this for you. We will all use the same id and secret for this assignment.\n",
        "\n",
        "Next, we need to import PRAW which is a package for dealing with Reddit data. PRAW isn't installed by default with Google Collab, so I am first giving Google Collab the instruction to install PRAW. \n",
        "\n",
        "Once we have installed PRAW, we can use if throughout the rest of this notebook."
      ]
    },
    {
      "cell_type": "code",
      "metadata": {
        "id": "jU_NvZ4BUyqM"
      },
      "source": [
        "!pip install -q praw\n",
        "import praw"
      ],
      "execution_count": 3,
      "outputs": []
    },
    {
      "cell_type": "markdown",
      "metadata": {
        "id": "2rN5MMB7mSUB"
      },
      "source": [
        "Now that we have PRAW, we need to connect to reddit. This returns a reddit object in Python. We will give commands to this object in order to get data from reddit. "
      ]
    },
    {
      "cell_type": "code",
      "metadata": {
        "id": "XVZzGNpumoeR"
      },
      "source": [
        ""
      ],
      "execution_count": null,
      "outputs": []
    }
  ]
}